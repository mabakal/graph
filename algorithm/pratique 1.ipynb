{
 "cells": [
  {
   "cell_type": "markdown",
   "metadata": {},
   "source": [
    "## \tProblèmes"
   ]
  },
  {
   "cell_type": "markdown",
   "metadata": {},
   "source": [
    "Avant de commencer fesons un rappèl, un graph est un objet mathematique representant les objects connectés. C'est une collections de deux ensembles $ G = (E,V) $ où $ E $ sont les arrêts et $ V $ les noeuds. Il y a existe principalement deux manière de représenter les graphs, en utilisant les liste ou les matrix adjacentes. Ici nous allons utiliser les matrix adjacentes. Dans une matrix adjacent, les noeuds sont les colonnes et les lignes de la matrix et les cellule sont les arrêtes du graph. Voici un exemple de representation d'une matrix adjacent en python\n",
    "Les problèmes que nous allons résoudre fond appèl á ces object."
   ]
  },
  {
   "cell_type": "code",
   "execution_count": null,
   "metadata": {},
   "outputs": [],
   "source": [
    "m = [\n",
    "\t[0, 1, 1, 0],\n",
    "\t[1, 0, 1, 1],\n",
    "\t[1, 1, 0, 0],\n",
    "\t[0, 1, 0, 0]\n",
    "\t]"
   ]
  },
  {
   "cell_type": "markdown",
   "metadata": {},
   "source": [
    "### Activité 1"
   ]
  },
  {
   "cell_type": "markdown",
   "metadata": {},
   "source": [
    "Nous avons les données d'un resaux sociaux represantant les rélations entre les differents utilisateurs. Chaque utilisateur du reseau sociaux est connecter ou pas à un utilisateurs. Dans le but de connaitre notre communauté, nous amerons savoir quelque information. Le nombre de connection de chaque personne dans le réseau et celui qui á le plus grand nombre de connection. Étant données deux personnes, combien de connexion ont ils en commun? Proposer des critères sur lesquels on peux se baser pour faire des suggèsion d'amis á des utilisateur en se passant sur ces amis\n",
    "Dans l'exemple si dessous on á un exemple de graph de résaux sociaux répresanté sous forme de matrix adjacent. Voici les informations des individues qui ont été stocké : Kofi,Amina,kossi,Nia,Kwame,Zainab,Tariq,Adanna,Lamine,Nyah. Chaque ligne correspond á l'information d'un individue dans l'ordre définie plus haut. Nous allons répondre aux question ci-dessous."
   ]
  },
  {
   "cell_type": "code",
   "execution_count": 3,
   "metadata": {},
   "outputs": [],
   "source": [
    "\n",
    "amis = [\n",
    "[0,1,1,1,0,0,0,0,0,0],\n",
    "[1,0,1,1,1,0,0,0,0,0],\n",
    "[1,1,0,0,0,1,0,0,0,0],\n",
    "[1,1,0,0,1,1,0,1,0,0],\n",
    "[0,1,0,1,0,0,0,0,0,1],\n",
    "[0,0,1,1,0,0,1,0,0,0],\n",
    "[0,0,0,0,0,1,0,1,1,0],\n",
    "[0,0,0,1,0,0,1,0,1,0],\n",
    "[0,0,0,0,0,0,1,1,0,1],\n",
    "[1,0,1,0,1,1,0,1,0,1],\n",
    "]\n"
   ]
  },
  {
   "cell_type": "markdown",
   "metadata": {},
   "source": [
    "#### Activité 2"
   ]
  },
  {
   "cell_type": "markdown",
   "metadata": {},
   "source": [
    "Les données ci-dessous représentent le réseau routier où chaque ligne et colonne correspondent à une ville, et les distances sont indiquées dans les cases de cette matrice. Par exemple, une distance de 5 km représente la distance entre la ville A et la ville B. Ecris un algorithme permet se savoir et de retourner un le chemin entre deux point."
   ]
  },
  {
   "cell_type": "code",
   "execution_count": 106,
   "metadata": {},
   "outputs": [],
   "source": [
    "import numpy as np\n",
    "x = float('inf')\n",
    "chemins = np.array([\n",
    "[x,5,8,3,x,x],\n",
    "[5,x,4,7,2,x],\n",
    "[8,4,x,x,6,9],\n",
    "[3,7,x,x,5,2],\n",
    "[x,2,6,5,x,2],\n",
    "[x,x,9,2,2,x],\n",
    "])"
   ]
  },
  {
   "cell_type": "markdown",
   "metadata": {},
   "source": [
    "Voic une nouvelle representation du réseau routier. L'objectif est de récrire le même problème avec cette nouvelle representation de données."
   ]
  },
  {
   "cell_type": "code",
   "execution_count": 117,
   "metadata": {},
   "outputs": [],
   "source": [
    "paths = {\n",
    "\t\"A\":{\"B\":5, \"C\":8, \"D\":3},\n",
    "\t\"B\":{\"A\":5, \"C\":4, \"D\":7, \"E\":2},\n",
    "\t\"C\":{\"A\":8, \"B\":4,\"E\":6, \"F\":9},\n",
    "\t\"D\":{\"A\":3, \"B\":7, \"E\":5, \"F\":2},\n",
    "\t\"E\":{\"B\":2, \"C\":6, \"D\":5, \"F\":2},\n",
    "\t\"F\":{\"C\":9, \"D\":2, \"E\":2}\n",
    "}"
   ]
  }
 ],
 "metadata": {
  "kernelspec": {
   "display_name": "dataDibe",
   "language": "python",
   "name": "python3"
  },
  "language_info": {
   "codemirror_mode": {
    "name": "ipython",
    "version": 3
   },
   "file_extension": ".py",
   "mimetype": "text/x-python",
   "name": "python",
   "nbconvert_exporter": "python",
   "pygments_lexer": "ipython3",
   "version": "3.9.13"
  }
 },
 "nbformat": 4,
 "nbformat_minor": 2
}
