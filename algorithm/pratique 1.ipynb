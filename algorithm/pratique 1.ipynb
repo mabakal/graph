{
 "cells": [
  {
   "cell_type": "markdown",
   "metadata": {},
   "source": [
    "### Descriptions"
   ]
  },
  {
   "cell_type": "markdown",
   "metadata": {},
   "source": [
    "Dans ces activités, nous allons apprendre à résoudre des problèmes liés aux objets qui sont connectés. Nous allons principalement utiliser les structures de données pour résoudre ces problèmes, notamment les listes, les dictionnaires et les ensembles de Python. Afin de mieux comprendre et résoudre ces problèmes, vous devriez avoir des compétences dans ces sujets."
   ]
  },
  {
   "cell_type": "markdown",
   "metadata": {},
   "source": [
    "#### \tProblèmes"
   ]
  },
  {
   "cell_type": "markdown",
   "metadata": {},
   "source": [
    "Avant de commencer fesons un rappèl, un graph est un objet mathematique representant les objects connectés. C'est une collections de deux ensembles $ G = (E,V) $ où $ E $ represante l'ensemble des arêts et $ V $ l'ensemble des noeuds. Les graphs sont principalement représentés de deux manière, en utilisant les liste ou les matrix adjacentes. Ici nous allons utiliser les matrix adjacentes. Dans une matrix adjacent, lignes et colonnes representes les noeudx et les cellules sont les arrêtes du graph. Voici un exemple de representation d'une matrix adjacent en python. Prenons par exemple la cellule résultant de l'intersection entre la ligne 1 et la colonne 1 (On commence á compter á partir de 0). La valeur est 0 ce qui signifie qu'il y a aucune relation entre la ligne une et la colonne 1. Dans les activitées á suivre nous allons utiliser cette représentation.\n",
    "\n"
   ]
  },
  {
   "cell_type": "code",
   "execution_count": null,
   "metadata": {},
   "outputs": [],
   "source": [
    "m = [\n",
    "\t[0, 1, 1, 0],\n",
    "\t[1, 0, 1, 1],\n",
    "\t[1, 1, 0, 0],\n",
    "\t[0, 1, 0, 0]\n",
    "\t]"
   ]
  },
  {
   "cell_type": "markdown",
   "metadata": {},
   "source": [
    "##### Activité 1"
   ]
  },
  {
   "cell_type": "markdown",
   "metadata": {},
   "source": [
    "La list ci-après represantes les données d'un réseau sociaux. Dans le but de connaitre cette communauté, nous amerons avoir quelques informations. <br>\n",
    "<ul>\n",
    "\t<li> Le nombre de connection de chaque utilisateur dans le réseau et celui qui á le plus grand nombre de connection.\n",
    "\t</li>\n",
    "\t<li> Étant données deux personnes, combien de connexion ont ils en commun?</li>\n",
    "\t<li>\n",
    "\t\tCombien de personnes ont une connexion réciproque?\n",
    "\t</li>\n",
    "\t<li>\n",
    "\tProposer des critères sur lesquels on peux se baser pour faire des suggèsion d'amis á des utilisateur en se passant sur ces amis.\n",
    "\t</li>\n",
    "</ul> <br>\n",
    "Voici les informations des individues qui ont été stocké : Kofi,Amina,kossi,Nia,Kwame,Zainab,Tariq,Adanna,Lamine,Nyah. Chaque ligne correspond á l'information d'un individue dans l'ordre définie plus haut. Utiliser des fonctions pour répondre aux questions listées plus haut."
   ]
  },
  {
   "cell_type": "code",
   "execution_count": 3,
   "metadata": {},
   "outputs": [],
   "source": [
    "\n",
    "amis = [\n",
    "[0,1,1,1,0,0,0,0,0,0],\n",
    "[1,0,1,1,1,0,0,0,0,0],\n",
    "[1,1,0,0,0,1,0,0,0,0],\n",
    "[1,1,0,0,1,1,0,1,0,0],\n",
    "[0,1,0,1,0,0,0,0,0,1],\n",
    "[0,0,1,1,0,0,1,0,0,0],\n",
    "[0,0,0,0,0,1,0,1,1,0],\n",
    "[0,0,0,1,0,0,1,0,1,0],\n",
    "[0,0,0,0,0,0,1,1,0,1],\n",
    "[1,0,1,0,1,1,0,1,0,1],\n",
    "]\n"
   ]
  },
  {
   "cell_type": "markdown",
   "metadata": {},
   "source": [
    "##### Activité 2"
   ]
  },
  {
   "cell_type": "markdown",
   "metadata": {},
   "source": [
    "Les données ci-dessous représentent le réseau routier où chaque ligne et colonne correspondent à une ville, et les distances séparant les villes  indiquées dans les cellules de la matrice. Par exemple, une distance de 5 km représente la distance entre la ville A et la ville B. Écriver un algorithme permettant de retourner un chemin entre deux villes connues."
   ]
  },
  {
   "cell_type": "code",
   "execution_count": 106,
   "metadata": {},
   "outputs": [],
   "source": [
    "import numpy as np\n",
    "x = float('inf')\n",
    "chemins = np.array([\n",
    "[x,5,8,3,x,x],\n",
    "[5,x,4,7,2,x],\n",
    "[8,4,x,x,6,9],\n",
    "[3,7,x,x,5,2],\n",
    "[x,2,6,5,x,2],\n",
    "[x,x,9,2,2,x],\n",
    "])"
   ]
  },
  {
   "cell_type": "markdown",
   "metadata": {},
   "source": [
    "Voici une nouvelle representation du réseau routier. Nous allons résoudre le même problème avec cette nouvelle representation de données."
   ]
  },
  {
   "cell_type": "code",
   "execution_count": 117,
   "metadata": {},
   "outputs": [],
   "source": [
    "paths = {\n",
    "\t\"A\":{\"B\":5, \"C\":8, \"D\":3},\n",
    "\t\"B\":{\"A\":5, \"C\":4, \"D\":7, \"E\":2},\n",
    "\t\"C\":{\"A\":8, \"B\":4,\"E\":6, \"F\":9},\n",
    "\t\"D\":{\"A\":3, \"B\":7, \"E\":5, \"F\":2},\n",
    "\t\"E\":{\"B\":2, \"C\":6, \"D\":5, \"F\":2},\n",
    "\t\"F\":{\"C\":9, \"D\":2, \"E\":2}\n",
    "}"
   ]
  },
  {
   "cell_type": "markdown",
   "metadata": {},
   "source": []
  }
 ],
 "metadata": {
  "kernelspec": {
   "display_name": "dataDibe",
   "language": "python",
   "name": "python3"
  },
  "language_info": {
   "codemirror_mode": {
    "name": "ipython",
    "version": 3
   },
   "file_extension": ".py",
   "mimetype": "text/x-python",
   "name": "python",
   "nbconvert_exporter": "python",
   "pygments_lexer": "ipython3",
   "version": "3.9.13"
  }
 },
 "nbformat": 4,
 "nbformat_minor": 2
}
