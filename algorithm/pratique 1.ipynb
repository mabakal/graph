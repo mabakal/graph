{
 "cells": [
  {
   "cell_type": "markdown",
   "metadata": {},
   "source": [
    "## \tProblème"
   ]
  },
  {
   "cell_type": "markdown",
   "metadata": {},
   "source": [
    "Avant de commencer fesons un rappèl, un graph est un objet mathematique representant les objects connectés. C'est une collections de deux ensembles $ G = (E,V) $ où $ E $ sont les arrêts et $ V $ les noeuds. Il y a existe principalement deux manière de représenter les graphs, en utilisant les liste ou les matrix adjacentes. Ici nous allons utiliser les matrix adjacentes. Dans une matrix adjacent, les noeuds sont les colonnes et les lignes de la matrix et les cellule sont les arrêtes du graph. Voici un exemple de representation d'une matrix adjacent en python\n",
    "Les problèmes que nous allons résoudre fond appèl á ces object."
   ]
  },
  {
   "cell_type": "code",
   "execution_count": null,
   "metadata": {},
   "outputs": [],
   "source": [
    "m = [\n",
    "\t[0, 1, 1, 0],\n",
    "\t[1, 0, 1, 1],\n",
    "\t[1, 1, 0, 0],\n",
    "\t[0, 1, 0, 0]\n",
    "\t]"
   ]
  },
  {
   "cell_type": "markdown",
   "metadata": {},
   "source": [
    "### Activité 1"
   ]
  },
  {
   "cell_type": "markdown",
   "metadata": {},
   "source": [
    "Nous avons les données d'un resaux sociaux represantant les rélations entre les differents utilisateurs. Chaque utilisateur du reseau sociaux est connecter ou pas à un utilisateurs. Dans le but de connaitre notre communauté, nous amerons savoir quelque information. Le nombre de connection de chaque personne dans le réseau et celui qui á le plus grand nombre de connection. Étant données deux personnes, combiende connexion ont ils en commun? Proposer des critères sur lesquels on peux se baser pour faire des suggèsion d'amis á des utilisateur en se passant sur ces amis\n",
    "Dans l'exemple si dessous on á un exemple de graph de résaux sociaux répresanté sous forme de matrix adjacent. Voici les informations des individues qui ont été stocké : Kofi,Amina,kossi,Nia,Kwame,Zainab,Tariq,Adanna,Lamine,Nyah. Chaque ligne correspond á l'information d'un individue dans l'ordre définie plus haut. Nous allons répondre aux question ci-dessous."
   ]
  },
  {
   "cell_type": "code",
   "execution_count": 3,
   "metadata": {},
   "outputs": [],
   "source": [
    "\n",
    "amis = [\n",
    "[0,1,1,1,0,0,0,0,0,0],\n",
    "[1,0,1,1,1,0,0,0,0,0],\n",
    "[1,1,0,0,0,1,0,0,0,0],\n",
    "[1,1,0,0,1,1,0,1,0,0],\n",
    "[0,1,0,1,0,0,0,0,0,1],\n",
    "[0,0,1,1,0,0,1,0,0,0],\n",
    "[0,0,0,0,0,1,0,1,1,0],\n",
    "[0,0,0,1,0,0,1,0,1,0],\n",
    "[0,0,0,0,0,0,1,1,0,1],\n",
    "[1,0,1,0,1,1,0,1,0,1],\n",
    "]\n"
   ]
  },
  {
   "cell_type": "markdown",
   "metadata": {},
   "source": [
    "#### Activité 2"
   ]
  },
  {
   "cell_type": "markdown",
   "metadata": {},
   "source": [
    "Une compagnie de livraison rencontre un problème dans ses activités. Le problème qu'elle rencontre consiste à optimiser ses dépenses. Elle aimerait livrer un produit dans une ville E sachant qu'il se situe dans une ville A. Cette compagnie cherche à savoir combien de chemins possibles relient ces deux villes (on ne doit passer par une ville intermédiaire qu'une seule fois) dans un premier temps. Elle aimerait passer par une ville intermédiaire qui est C et se demande parmi ces villes, s'il existe un chemin qui passe par la ville C.\n",
    "\n",
    "Les données ci-dessous représentent le réseau routier de ce problème où chaque ligne et colonne correspondent à une ville, et les distances sont indiquées dans les cases de cette matrice. Par exemple, une distance de 5 km représente la distance entre la ville A et la ville B."
   ]
  },
  {
   "cell_type": "code",
   "execution_count": 6,
   "metadata": {},
   "outputs": [],
   "source": [
    "import numpy as np\n",
    "x = float('inf')\n",
    "chemins = np.array([\n",
    "[x,5,8,3,x,x],\n",
    "[5,x,4,7,2,x],\n",
    "[8,4,x,x,6,9],\n",
    "[3,7,x,x,x,2],\n",
    "[x,2,6,x,x,x],\n",
    "[x,x,9,2,x,x],\n",
    "])"
   ]
  }
 ],
 "metadata": {
  "kernelspec": {
   "display_name": "dataDibe",
   "language": "python",
   "name": "python3"
  },
  "language_info": {
   "codemirror_mode": {
    "name": "ipython",
    "version": 3
   },
   "file_extension": ".py",
   "mimetype": "text/x-python",
   "name": "python",
   "nbconvert_exporter": "python",
   "pygments_lexer": "ipython3",
   "version": "3.9.13"
  }
 },
 "nbformat": 4,
 "nbformat_minor": 2
}
